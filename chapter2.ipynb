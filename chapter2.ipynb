{
  "nbformat": 4,
  "nbformat_minor": 0,
  "metadata": {
    "colab": {
      "provenance": [],
      "authorship_tag": "ABX9TyNDrxd3/KmD3PtVOmBZ7uWu",
      "include_colab_link": true
    },
    "kernelspec": {
      "name": "python3",
      "display_name": "Python 3"
    },
    "language_info": {
      "name": "python"
    }
  },
  "cells": [
    {
      "cell_type": "markdown",
      "metadata": {
        "id": "view-in-github",
        "colab_type": "text"
      },
      "source": [
        "<a href=\"https://colab.research.google.com/github/yw58/22_05_Python_Ch2/blob/main/chapter2.ipynb\" target=\"_parent\"><img src=\"https://colab.research.google.com/assets/colab-badge.svg\" alt=\"Open In Colab\"/></a>"
      ]
    },
    {
      "cell_type": "markdown",
      "source": [
        "사용자한테 이름과나이를입력하게한다사용자가100살이되는연도를화면에출력하는프로그렘을작성하라"
      ],
      "metadata": {
        "id": "2UJXITfVPwW6"
      }
    },
    {
      "cell_type": "code",
      "source": [
        "name = input(\"이름을 입력하시오:\")            \n",
        "age = int(input(\"나이를 입력하시오:\"))        \n",
        "year = 2022 - age + 100                      \n",
        "print(name + \"씨는\" + str(year) + \"년에 100살입니다.\")"
      ],
      "metadata": {
        "colab": {
          "base_uri": "https://localhost:8080/"
        },
        "id": "A-1tHl-7R3QT",
        "outputId": "6ab6d842-70a8-459e-b258-5fbb6028e833"
      },
      "execution_count": 1,
      "outputs": [
        {
          "output_type": "stream",
          "name": "stdout",
          "text": [
            "이름을 입력하시오:이용우\n",
            "나이를 입력하시오:65\n",
            "이용우씨는2057년에 100살입니다.\n"
          ]
        }
      ]
    },
    {
      "cell_type": "code",
      "source": [
        "n1 = int(input(\"첫 번째 값을 입력하시오:\"))\n",
        "n2 = int(input(\"두 번째 값을 입력하시오:\"))\n",
        "n3 = int(input(\"세 번째 값을 입력하시오:\"))\n",
        "aver = (n1 + n2 + n3) / 3\n",
        "sum = n1 + n2 + n3\n",
        "print(n1,n2, n3, \"합은\", sum, \"이고\",\"의 평균은\", aver, \"입니다\")"
      ],
      "metadata": {
        "colab": {
          "base_uri": "https://localhost:8080/"
        },
        "id": "N9_1Om94Vq3w",
        "outputId": "c305fa9a-36a4-4c73-f97c-b2a3d921b1b3"
      },
      "execution_count": 2,
      "outputs": [
        {
          "output_type": "stream",
          "name": "stdout",
          "text": [
            "첫 번째 값을 입력하시오:10\n",
            "두 번째 값을 입력하시오:20\n",
            "세 번째 값을 입력하시오:30\n",
            "10 20 30 합은 60 이고 의 평균은 20.0 입니다\n"
          ]
        }
      ]
    },
    {
      "cell_type": "markdown",
      "source": [
        "(3) 사용자로부터 반지름을 입력받아서 면적을 구하시오."
      ],
      "metadata": {
        "id": "ewdCQ1z9W8qq"
      }
    },
    {
      "cell_type": "code",
      "source": [
        "radius = int(input(\"반지름을 입력하시오.:\"))\n",
        "area = 3.141592* radius * radius\n",
        "print(\"반지름이\",radius,\"원의 넓이는 = \", area,\"입니다\")"
      ],
      "metadata": {
        "colab": {
          "base_uri": "https://localhost:8080/"
        },
        "id": "7cRjcqciVue4",
        "outputId": "7145b923-b76e-4383-f592-1ccac861c421"
      },
      "execution_count": 3,
      "outputs": [
        {
          "output_type": "stream",
          "name": "stdout",
          "text": [
            "반지름을 입력하시오.:10\n",
            "반지름이 10 원의 넓이는 =  314.1592 입니다\n"
          ]
        }
      ]
    }
  ]
}